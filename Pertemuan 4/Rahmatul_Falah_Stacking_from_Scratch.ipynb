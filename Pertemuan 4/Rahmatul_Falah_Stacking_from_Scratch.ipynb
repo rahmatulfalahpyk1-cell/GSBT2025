{
  "cells": [
    {
      "cell_type": "markdown",
      "id": "8f5448fb",
      "metadata": {
        "id": "8f5448fb",
        "papermill": {
          "duration": 0.014281,
          "end_time": "2024-06-29T05:06:57.857497",
          "exception": false,
          "start_time": "2024-06-29T05:06:57.843216",
          "status": "completed"
        },
        "tags": []
      },
      "source": [
        "# **Stacking from scratch**\n",
        "\n",
        "Berikan penjelasan terkait Stacking!\n",
        "\n",
        "Source : https://www.geeksforgeeks.org/machine-learning/stacking-in-machine-learning/\n",
        "Youtube : https://www.youtube.com/watch?v=a4IS1Ai7GCI"
      ]
    },
    {
      "cell_type": "code",
      "execution_count": 1,
      "id": "1586bc8f",
      "metadata": {
        "execution": {
          "iopub.execute_input": "2024-06-29T05:06:57.888286Z",
          "iopub.status.busy": "2024-06-29T05:06:57.887851Z",
          "iopub.status.idle": "2024-06-29T05:07:00.846336Z",
          "shell.execute_reply": "2024-06-29T05:07:00.845160Z"
        },
        "id": "1586bc8f",
        "papermill": {
          "duration": 2.977168,
          "end_time": "2024-06-29T05:07:00.849030",
          "exception": false,
          "start_time": "2024-06-29T05:06:57.871862",
          "status": "completed"
        },
        "tags": []
      },
      "outputs": [],
      "source": [
        "# Import Libraries\n",
        "import numpy as np\n",
        "import pandas as pd\n",
        "from sklearn.model_selection import train_test_split\n",
        "from sklearn.preprocessing import LabelEncoder\n",
        "from sklearn.ensemble import RandomForestClassifier, GradientBoostingClassifier\n",
        "from sklearn.linear_model import LogisticRegression\n",
        "from sklearn.metrics import accuracy_score\n",
        "from sklearn.model_selection import cross_val_score"
      ]
    },
    {
      "cell_type": "markdown",
      "source": [
        "**Pendefinisian class stack**\n",
        "\n",
        "Bertujuan untuk membuat kerangka kerja ensemble learning berbasis stacking dan blending secara modular dan fleksibel. Class ini memungkinkan pengguna untuk menggabungkan beberapa model dasar (base learners) dan satu model meta (final estimator) untuk menghasilkan prediksi akhir yang lebih akurat. Dengan mengatur parameter seperti metode cross-validation, penggunaan blending, serta paralelisasi proses, class ini memberikan kontrol penuh kepada pengguna dalam menerapkan teknik stacking sesuai kebutuhan. Kegunaan utamanya adalah sebagai alat bantu untuk mengimplementasikan ensemble model dari nol (from scratch) tanpa tergantung pada fungsi otomatis dari pustaka seperti scikit-learn, sehingga cocok untuk pembelajaran konsep maupun eksperimen lanjutan dalam machine learning."
      ],
      "metadata": {
        "id": "xl_ZCQOqltFo"
      },
      "id": "xl_ZCQOqltFo"
    },
    {
      "cell_type": "markdown",
      "source": [
        "Buat class bernama Stack yang berisi <br>\n",
        "\n",
        "Attribute:\n",
        "\n",
        "\n",
        "Method:\n"
      ],
      "metadata": {
        "id": "_hxe6ClnA8_o"
      },
      "id": "_hxe6ClnA8_o"
    },
    {
      "cell_type": "code",
      "execution_count": 2,
      "id": "436db242",
      "metadata": {
        "execution": {
          "iopub.execute_input": "2024-06-29T05:07:00.881581Z",
          "iopub.status.busy": "2024-06-29T05:07:00.880255Z",
          "iopub.status.idle": "2024-06-29T05:07:00.897475Z",
          "shell.execute_reply": "2024-06-29T05:07:00.896334Z"
        },
        "id": "436db242",
        "papermill": {
          "duration": 0.036178,
          "end_time": "2024-06-29T05:07:00.900303",
          "exception": false,
          "start_time": "2024-06-29T05:07:00.864125",
          "status": "completed"
        },
        "tags": []
      },
      "outputs": [],
      "source": [
        "# Definisikan class stack\n",
        "class Stack:\n",
        "    def __init__(self, base_models, meta_model):\n",
        "        self.base_models = base_models\n",
        "        self.meta_model = meta_model\n",
        "\n",
        "    def fit(self, X, y):\n",
        "        # Simpan prediksi base model\n",
        "        meta_features = np.zeros((X.shape[0], len(self.base_models)))\n",
        "        for i, model in enumerate(self.base_models):\n",
        "            model.fit(X, y)\n",
        "            meta_features[:, i] = model.predict(X)\n",
        "        # Latih meta model\n",
        "        self.meta_model.fit(meta_features, y)\n",
        "\n",
        "    def predict(self, X):\n",
        "        meta_features = np.column_stack([\n",
        "            model.predict(X) for model in self.base_models\n",
        "        ])\n",
        "        return self.meta_model.predict(meta_features)"
      ]
    },
    {
      "cell_type": "markdown",
      "id": "1cf6ff9c",
      "metadata": {
        "id": "1cf6ff9c",
        "papermill": {
          "duration": 0.014463,
          "end_time": "2024-06-29T05:07:00.969581",
          "exception": false,
          "start_time": "2024-06-29T05:07:00.955118",
          "status": "completed"
        },
        "tags": []
      },
      "source": [
        "### **Upload datasets**"
      ]
    },
    {
      "cell_type": "code",
      "source": [
        "# Load dataset iris dari sklearn\n",
        "from sklearn.datasets import load_iris\n",
        "iris = load_iris(as_frame=True)\n",
        "glass_df = iris.frame\n",
        "\n",
        "# Pisahkan fitur dan target\n",
        "X1 = glass_df.drop(columns=[\"target\"])\n",
        "y1 = glass_df[\"target\"]\n",
        "\n",
        "# Encode target\n",
        "le = LabelEncoder()\n",
        "y1 = le.fit_transform(y1)\n",
        "\n",
        "# Split data\n",
        "X1_train, X1_test, y1_train, y1_test = train_test_split(X1, y1, test_size=0.2, random_state=0)"
      ],
      "metadata": {
        "id": "n5A865GHEqpX"
      },
      "id": "n5A865GHEqpX",
      "execution_count": 3,
      "outputs": []
    },
    {
      "cell_type": "markdown",
      "id": "f91c4f4f",
      "metadata": {
        "id": "f91c4f4f",
        "papermill": {
          "duration": 0.014633,
          "end_time": "2024-06-29T05:07:01.153943",
          "exception": false,
          "start_time": "2024-06-29T05:07:01.139310",
          "status": "completed"
        },
        "tags": []
      },
      "source": [
        "# **Model training and evaluation of the obtained results**\n",
        "Both in the case of classification and regression, stacking and blending showed the same and not the best results. As a rule, this situation occurs for two reasons: given that metadata is based on predictions of basic models, the presence of weak basic models can reduce the accuracy of stronger ones which will reduce the final prediction as a whole. Also a small amount of training data often leads to overfitting which in turn reduces the accuracy of predictions.\n",
        "\n",
        "In this case the problem can be partially solved by setting stack_method='predict_proba' when each basic classifier outputs class membership probabilities instead of the classes themselves which can help increase accuracy in the case of non-mutually exclusive classes. Also this method works better with noise in the data. As you can see this method has significantly increased the accuracy of the model. With the right selection of models and hyperparameters the accuracy will be even higher.\n",
        "\n",
        "Most often stacking shows slightly better results than blending due to the use of k-fold cross-validation but usually the difference is noticeable only on a large amount of data."
      ]
    },
    {
      "cell_type": "code",
      "execution_count": 4,
      "id": "bf39fc7e",
      "metadata": {
        "execution": {
          "iopub.execute_input": "2024-06-29T05:07:01.215267Z",
          "iopub.status.busy": "2024-06-29T05:07:01.214854Z",
          "iopub.status.idle": "2024-06-29T05:07:10.093042Z",
          "shell.execute_reply": "2024-06-29T05:07:10.091587Z"
        },
        "id": "bf39fc7e",
        "papermill": {
          "duration": 8.8971,
          "end_time": "2024-06-29T05:07:10.095743",
          "exception": false,
          "start_time": "2024-06-29T05:07:01.198643",
          "status": "completed"
        },
        "tags": [],
        "colab": {
          "base_uri": "https://localhost:8080/"
        },
        "outputId": "6f51442b-c6cb-42f6-a363-120336c35240"
      },
      "outputs": [
        {
          "output_type": "stream",
          "name": "stdout",
          "text": [
            "Akurasi Stacking: 1.0\n"
          ]
        }
      ],
      "source": [
        "# StackingClassifier dan Blending Classifier\n",
        "from sklearn.ensemble import StackingClassifier\n",
        "\n",
        "estimators = [\n",
        "    ('rf', RandomForestClassifier(n_estimators=50, random_state=0)),\n",
        "    ('gb', GradientBoostingClassifier(random_state=0))\n",
        "]\n",
        "\n",
        "stack_model = StackingClassifier(\n",
        "    estimators=estimators,\n",
        "    final_estimator=LogisticRegression(),\n",
        "    stack_method='predict_proba'\n",
        ")\n",
        "\n",
        "stack_model.fit(X1_train, y1_train)\n",
        "y_pred_stack = stack_model.predict(X1_test)\n",
        "print(\"Akurasi Stacking:\", accuracy_score(y1_test, y_pred_stack))"
      ]
    },
    {
      "cell_type": "markdown",
      "id": "f044880e",
      "metadata": {
        "id": "f044880e",
        "papermill": {
          "duration": 0.014779,
          "end_time": "2024-06-29T05:07:10.125840",
          "exception": false,
          "start_time": "2024-06-29T05:07:10.111061",
          "status": "completed"
        },
        "tags": []
      },
      "source": [
        "**StackingClassifier (scikit-learn)**\n",
        "\n",
        "\n",
        "* Merupakan implementasi resmi stacking untuk klasifikasi dalam scikit-learn.\n",
        "\n",
        "* Mempermudah proses ensemble dengan base learners dan final estimator (meta learner) dalam satu objek.\n",
        "\n",
        "* Sudah menangani cross-validation secara internal sehingga mengurangi risiko data leakage.\n",
        "\n",
        "* Mendukung parameter passthrough=True jika ingin menggabungkan fitur asli dengan meta-features.\n",
        "\n",
        "* Cocok untuk digunakan dalam pipeline dan produksi karena stabil dan teruji."
      ]
    },
    {
      "cell_type": "code",
      "execution_count": 6,
      "id": "11437b8a",
      "metadata": {
        "execution": {
          "iopub.execute_input": "2024-06-29T05:07:10.158872Z",
          "iopub.status.busy": "2024-06-29T05:07:10.157857Z",
          "iopub.status.idle": "2024-06-29T05:07:58.751416Z",
          "shell.execute_reply": "2024-06-29T05:07:58.749955Z"
        },
        "id": "11437b8a",
        "papermill": {
          "duration": 48.613356,
          "end_time": "2024-06-29T05:07:58.754310",
          "exception": false,
          "start_time": "2024-06-29T05:07:10.140954",
          "status": "completed"
        },
        "tags": [],
        "colab": {
          "base_uri": "https://localhost:8080/"
        },
        "outputId": "ee790ab4-5801-41c3-d6fa-303f45481fa0"
      },
      "outputs": [
        {
          "output_type": "stream",
          "name": "stdout",
          "text": [
            "\n",
            "=== Metode: predict ===\n",
            "Akurasi: 1.0000\n",
            "\n",
            "=== Metode: predict_proba ===\n",
            "Akurasi: 1.0000\n"
          ]
        }
      ],
      "source": [
        "# StackingClassifier (scikit-learn)\n",
        "sk_estimators = [\n",
        "    ('rf', RandomForestClassifier(n_estimators=100, random_state=42)),\n",
        "    ('gb', GradientBoostingClassifier(random_state=42))\n",
        "]\n",
        "stack_methods = ['predict', 'predict_proba']\n",
        "\n",
        "# loop untuk membandingkan metode stacking\n",
        "for i, method in enumerate(stack_methods):\n",
        "    print(f\"\\n=== Metode: {method} ===\")\n",
        "\n",
        "    # buat model stacking\n",
        "    stack_model = StackingClassifier(\n",
        "        estimators=sk_estimators,\n",
        "        final_estimator=LogisticRegression(),\n",
        "        stack_method=method\n",
        "    )\n",
        "\n",
        "    # latih model\n",
        "    stack_model.fit(X1_train, y1_train)\n",
        "\n",
        "    # prediksi\n",
        "    y_pred = stack_model.predict(X1_test)\n",
        "\n",
        "    # evaluasi\n",
        "    acc = accuracy_score(y1_test, y_pred)\n",
        "    print(f\"Akurasi: {acc:.4f}\")"
      ]
    }
  ],
  "metadata": {
    "colab": {
      "provenance": []
    },
    "kaggle": {
      "accelerator": "none",
      "dataSources": [
        {
          "datasetId": 738,
          "sourceId": 1370,
          "sourceType": "datasetVersion"
        }
      ],
      "dockerImageVersionId": 30664,
      "isGpuEnabled": false,
      "isInternetEnabled": true,
      "language": "python",
      "sourceType": "notebook"
    },
    "kernelspec": {
      "display_name": "Python 3",
      "language": "python",
      "name": "python3"
    },
    "language_info": {
      "codemirror_mode": {
        "name": "ipython",
        "version": 3
      },
      "file_extension": ".py",
      "mimetype": "text/x-python",
      "name": "python",
      "nbconvert_exporter": "python",
      "pygments_lexer": "ipython3",
      "version": "3.10.13"
    },
    "papermill": {
      "default_parameters": {},
      "duration": 71.638912,
      "end_time": "2024-06-29T05:08:06.086780",
      "environment_variables": {},
      "exception": null,
      "input_path": "__notebook__.ipynb",
      "output_path": "__notebook__.ipynb",
      "parameters": {},
      "start_time": "2024-06-29T05:06:54.447868",
      "version": "2.5.0"
    }
  },
  "nbformat": 4,
  "nbformat_minor": 5
}